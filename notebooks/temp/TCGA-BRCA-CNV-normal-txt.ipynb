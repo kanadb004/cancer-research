{
 "cells": [
  {
   "cell_type": "code",
   "execution_count": 120,
   "id": "11bb9596-e692-44e5-bed2-7b9ec20f44ca",
   "metadata": {},
   "outputs": [],
   "source": [
    "import pandas as pd\n",
    "import numpy as np\n",
    "import matplotlib.pyplot as plt"
   ]
  },
  {
   "cell_type": "code",
   "execution_count": 121,
   "id": "5f188447-3386-4e93-8392-b73d3f734dea",
   "metadata": {},
   "outputs": [],
   "source": [
    "df = pd.read_csv(\"WRIED_p_TCGA_143_147_150_Hahn_N_GenomeWideSNP_6_F07_799994.nocnv_grch38.seg.v2.txt\", sep='\\t')"
   ]
  },
  {
   "cell_type": "code",
   "execution_count": 122,
   "id": "5cd1f02e-1651-4b68-9e7e-29913d069274",
   "metadata": {},
   "outputs": [],
   "source": [
    "df.columns = [col.strip() for col in df.columns]"
   ]
  },
  {
   "cell_type": "code",
   "execution_count": 123,
   "id": "7cf47ade-09bc-4d0e-be85-89adae24c94e",
   "metadata": {},
   "outputs": [],
   "source": [
    "df['Start'] = df['Start'].astype(int)\n",
    "df['End'] = df['End'].astype(int)\n",
    "df['Num_Probes'] = df['Num_Probes'].astype(int)\n",
    "df['Segment_Mean'] = df['Segment_Mean'].astype(float)"
   ]
  },
  {
   "cell_type": "code",
   "execution_count": 124,
   "id": "3901aaf4-93de-4e1a-9046-7913f4109a3f",
   "metadata": {},
   "outputs": [
    {
     "data": {
      "text/plain": [
       "GDC_Aliquot      object\n",
       "Chromosome       object\n",
       "Start             int64\n",
       "End               int64\n",
       "Num_Probes        int64\n",
       "Segment_Mean    float64\n",
       "dtype: object"
      ]
     },
     "execution_count": 124,
     "metadata": {},
     "output_type": "execute_result"
    }
   ],
   "source": [
    "df.dtypes"
   ]
  },
  {
   "cell_type": "code",
   "execution_count": 125,
   "id": "5511957e-39b7-4596-a35b-73f17c866121",
   "metadata": {},
   "outputs": [
    {
     "data": {
      "text/html": [
       "<div>\n",
       "<style scoped>\n",
       "    .dataframe tbody tr th:only-of-type {\n",
       "        vertical-align: middle;\n",
       "    }\n",
       "\n",
       "    .dataframe tbody tr th {\n",
       "        vertical-align: top;\n",
       "    }\n",
       "\n",
       "    .dataframe thead th {\n",
       "        text-align: right;\n",
       "    }\n",
       "</style>\n",
       "<table border=\"1\" class=\"dataframe\">\n",
       "  <thead>\n",
       "    <tr style=\"text-align: right;\">\n",
       "      <th></th>\n",
       "      <th>GDC_Aliquot</th>\n",
       "      <th>Chromosome</th>\n",
       "      <th>Start</th>\n",
       "      <th>End</th>\n",
       "      <th>Num_Probes</th>\n",
       "      <th>Segment_Mean</th>\n",
       "    </tr>\n",
       "  </thead>\n",
       "  <tbody>\n",
       "    <tr>\n",
       "      <th>0</th>\n",
       "      <td>a76e695c-a58b-40a7-9396-7e88734075f2</td>\n",
       "      <td>1</td>\n",
       "      <td>3301765</td>\n",
       "      <td>247650984</td>\n",
       "      <td>128894</td>\n",
       "      <td>0.0102</td>\n",
       "    </tr>\n",
       "    <tr>\n",
       "      <th>1</th>\n",
       "      <td>a76e695c-a58b-40a7-9396-7e88734075f2</td>\n",
       "      <td>2</td>\n",
       "      <td>480597</td>\n",
       "      <td>241537572</td>\n",
       "      <td>131362</td>\n",
       "      <td>0.0132</td>\n",
       "    </tr>\n",
       "    <tr>\n",
       "      <th>2</th>\n",
       "      <td>a76e695c-a58b-40a7-9396-7e88734075f2</td>\n",
       "      <td>3</td>\n",
       "      <td>2170634</td>\n",
       "      <td>197812401</td>\n",
       "      <td>106517</td>\n",
       "      <td>0.0111</td>\n",
       "    </tr>\n",
       "    <tr>\n",
       "      <th>3</th>\n",
       "      <td>a76e695c-a58b-40a7-9396-7e88734075f2</td>\n",
       "      <td>4</td>\n",
       "      <td>1059384</td>\n",
       "      <td>78381210</td>\n",
       "      <td>43006</td>\n",
       "      <td>0.0133</td>\n",
       "    </tr>\n",
       "    <tr>\n",
       "      <th>4</th>\n",
       "      <td>a76e695c-a58b-40a7-9396-7e88734075f2</td>\n",
       "      <td>4</td>\n",
       "      <td>78381703</td>\n",
       "      <td>78383072</td>\n",
       "      <td>2</td>\n",
       "      <td>-1.8840</td>\n",
       "    </tr>\n",
       "  </tbody>\n",
       "</table>\n",
       "</div>"
      ],
      "text/plain": [
       "                            GDC_Aliquot Chromosome     Start        End  \\\n",
       "0  a76e695c-a58b-40a7-9396-7e88734075f2          1   3301765  247650984   \n",
       "1  a76e695c-a58b-40a7-9396-7e88734075f2          2    480597  241537572   \n",
       "2  a76e695c-a58b-40a7-9396-7e88734075f2          3   2170634  197812401   \n",
       "3  a76e695c-a58b-40a7-9396-7e88734075f2          4   1059384   78381210   \n",
       "4  a76e695c-a58b-40a7-9396-7e88734075f2          4  78381703   78383072   \n",
       "\n",
       "   Num_Probes  Segment_Mean  \n",
       "0      128894        0.0102  \n",
       "1      131362        0.0132  \n",
       "2      106517        0.0111  \n",
       "3       43006        0.0133  \n",
       "4           2       -1.8840  "
      ]
     },
     "execution_count": 125,
     "metadata": {},
     "output_type": "execute_result"
    }
   ],
   "source": [
    "df.head()"
   ]
  },
  {
   "cell_type": "code",
   "execution_count": 126,
   "id": "56f4eeb4-d68f-428a-8dae-2f543c873a16",
   "metadata": {},
   "outputs": [],
   "source": [
    "# df = df[df['Num_Probes'] >= 5]"
   ]
  },
  {
   "cell_type": "code",
   "execution_count": 127,
   "id": "ff73cf62-25cd-4bb4-a6f5-3f1b0f8f6579",
   "metadata": {},
   "outputs": [
    {
     "data": {
      "text/plain": [
       "(41, 6)"
      ]
     },
     "execution_count": 127,
     "metadata": {},
     "output_type": "execute_result"
    }
   ],
   "source": [
    "df.shape"
   ]
  },
  {
   "cell_type": "code",
   "execution_count": 128,
   "id": "8357825f-d026-4518-9936-2862aaab2f8c",
   "metadata": {},
   "outputs": [],
   "source": [
    "def classify(mean):\n",
    "    if mean > 0.25:\n",
    "        return \"Amplified\"\n",
    "    elif mean < -0.25:\n",
    "        return \"Deleted\"\n",
    "    else:\n",
    "        return \"Normal\"\n",
    "\n",
    "df['CNV_Type'] = df['Segment_Mean'].apply(classify)"
   ]
  },
  {
   "cell_type": "code",
   "execution_count": 129,
   "id": "b3e5a984-ea0c-48ce-9b66-e1ab0eb3e99d",
   "metadata": {},
   "outputs": [
    {
     "data": {
      "text/html": [
       "<div>\n",
       "<style scoped>\n",
       "    .dataframe tbody tr th:only-of-type {\n",
       "        vertical-align: middle;\n",
       "    }\n",
       "\n",
       "    .dataframe tbody tr th {\n",
       "        vertical-align: top;\n",
       "    }\n",
       "\n",
       "    .dataframe thead th {\n",
       "        text-align: right;\n",
       "    }\n",
       "</style>\n",
       "<table border=\"1\" class=\"dataframe\">\n",
       "  <thead>\n",
       "    <tr style=\"text-align: right;\">\n",
       "      <th></th>\n",
       "      <th>GDC_Aliquot</th>\n",
       "      <th>Chromosome</th>\n",
       "      <th>Start</th>\n",
       "      <th>End</th>\n",
       "      <th>Num_Probes</th>\n",
       "      <th>Segment_Mean</th>\n",
       "      <th>CNV_Type</th>\n",
       "    </tr>\n",
       "  </thead>\n",
       "  <tbody>\n",
       "    <tr>\n",
       "      <th>0</th>\n",
       "      <td>a76e695c-a58b-40a7-9396-7e88734075f2</td>\n",
       "      <td>1</td>\n",
       "      <td>3301765</td>\n",
       "      <td>247650984</td>\n",
       "      <td>128894</td>\n",
       "      <td>0.0102</td>\n",
       "      <td>Normal</td>\n",
       "    </tr>\n",
       "    <tr>\n",
       "      <th>1</th>\n",
       "      <td>a76e695c-a58b-40a7-9396-7e88734075f2</td>\n",
       "      <td>2</td>\n",
       "      <td>480597</td>\n",
       "      <td>241537572</td>\n",
       "      <td>131362</td>\n",
       "      <td>0.0132</td>\n",
       "      <td>Normal</td>\n",
       "    </tr>\n",
       "    <tr>\n",
       "      <th>2</th>\n",
       "      <td>a76e695c-a58b-40a7-9396-7e88734075f2</td>\n",
       "      <td>3</td>\n",
       "      <td>2170634</td>\n",
       "      <td>197812401</td>\n",
       "      <td>106517</td>\n",
       "      <td>0.0111</td>\n",
       "      <td>Normal</td>\n",
       "    </tr>\n",
       "    <tr>\n",
       "      <th>3</th>\n",
       "      <td>a76e695c-a58b-40a7-9396-7e88734075f2</td>\n",
       "      <td>4</td>\n",
       "      <td>1059384</td>\n",
       "      <td>78381210</td>\n",
       "      <td>43006</td>\n",
       "      <td>0.0133</td>\n",
       "      <td>Normal</td>\n",
       "    </tr>\n",
       "    <tr>\n",
       "      <th>4</th>\n",
       "      <td>a76e695c-a58b-40a7-9396-7e88734075f2</td>\n",
       "      <td>4</td>\n",
       "      <td>78381703</td>\n",
       "      <td>78383072</td>\n",
       "      <td>2</td>\n",
       "      <td>-1.8840</td>\n",
       "      <td>Deleted</td>\n",
       "    </tr>\n",
       "  </tbody>\n",
       "</table>\n",
       "</div>"
      ],
      "text/plain": [
       "                            GDC_Aliquot Chromosome     Start        End  \\\n",
       "0  a76e695c-a58b-40a7-9396-7e88734075f2          1   3301765  247650984   \n",
       "1  a76e695c-a58b-40a7-9396-7e88734075f2          2    480597  241537572   \n",
       "2  a76e695c-a58b-40a7-9396-7e88734075f2          3   2170634  197812401   \n",
       "3  a76e695c-a58b-40a7-9396-7e88734075f2          4   1059384   78381210   \n",
       "4  a76e695c-a58b-40a7-9396-7e88734075f2          4  78381703   78383072   \n",
       "\n",
       "   Num_Probes  Segment_Mean CNV_Type  \n",
       "0      128894        0.0102   Normal  \n",
       "1      131362        0.0132   Normal  \n",
       "2      106517        0.0111   Normal  \n",
       "3       43006        0.0133   Normal  \n",
       "4           2       -1.8840  Deleted  "
      ]
     },
     "execution_count": 129,
     "metadata": {},
     "output_type": "execute_result"
    }
   ],
   "source": [
    "df.head()"
   ]
  },
  {
   "cell_type": "code",
   "execution_count": 130,
   "id": "f1ffd049-2d72-4602-be25-a9dcae0554cc",
   "metadata": {},
   "outputs": [
    {
     "data": {
      "image/png": "[encoded data removed]",
      "text/plain": [
       "<Figure size 640x480 with 1 Axes>"
      ]
     },
     "metadata": {},
     "output_type": "display_data"
    }
   ],
   "source": [
    "plt.hist(df['Segment_Mean'], color='gray', edgecolor='black')\n",
    "\n",
    "plt.title('Histogram')\n",
    "plt.xlabel('Segment Mean')\n",
    "plt.ylabel('Frequency')\n",
    "\n",
    "plt.show()"
   ]
  },
  {
   "cell_type": "code",
   "execution_count": 131,
   "id": "7dd303b3-6ab2-46e4-8eec-3f9c2d1239f6",
   "metadata": {},
   "outputs": [
    {
     "data": {
      "text/plain": [
       "CNV_Type\n",
       "Normal       32\n",
       "Deleted       8\n",
       "Amplified     1\n",
       "Name: count, dtype: int64"
      ]
     },
     "execution_count": 131,
     "metadata": {},
     "output_type": "execute_result"
    }
   ],
   "source": [
    "cnv_types = df['CNV_Type'].value_counts()\n",
    "cnv_types"
   ]
  },
  {
   "cell_type": "code",
   "execution_count": 132,
   "id": "e0cf2993-9fd7-4343-8c7c-68dc84d139fb",
   "metadata": {},
   "outputs": [
    {
     "data": {
      "image/png": "[encoded data removed]",
      "text/plain": [
       "<Figure size 640x480 with 1 Axes>"
      ]
     },
     "metadata": {},
     "output_type": "display_data"
    }
   ],
   "source": [
    "cnv_labels = cnv_types.index\n",
    "cnv_values = cnv_types.values\n",
    "\n",
    "bar_colors = ['green', 'red', 'blue']\n",
    "\n",
    "plt.bar(cnv_labels, cnv_values, color=bar_colors)\n",
    "\n",
    "plt.title('CNV Type Counts')\n",
    "plt.xlabel('CNV Type')\n",
    "plt.ylabel('Count')\n",
    "\n",
    "plt.show()"
   ]
  },
  {
   "cell_type": "code",
   "execution_count": null,
   "id": "8232ef12-f1a7-4f97-a7b5-532b0fb707b9",
   "metadata": {},
   "outputs": [],
   "source": []
  }
 ],
 "metadata": {
  "kernelspec": {
   "display_name": "Python 3 (ipykernel)",
   "language": "python",
   "name": "python3"
  },
  "language_info": {
   "codemirror_mode": {
    "name": "ipython",
    "version": 3
   },
   "file_extension": ".py",
   "mimetype": "text/x-python",
   "name": "python",
   "nbconvert_exporter": "python",
   "pygments_lexer": "ipython3",
   "version": "3.11.4"
  }
 },
 "nbformat": 4,
 "nbformat_minor": 5
}
