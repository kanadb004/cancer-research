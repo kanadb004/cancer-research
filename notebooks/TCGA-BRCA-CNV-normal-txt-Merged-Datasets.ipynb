{
 "cells": [
  {
   "cell_type": "code",
   "execution_count": 1,
   "id": "fd6b87cf-f8c3-4218-a817-080d656ca1cd",
   "metadata": {},
   "outputs": [],
   "source": [
    "import pandas as pd\n",
    "import numpy as np\n",
    "import matplotlib.pyplot as plt\n",
    "import seaborn as sns"
   ]
  },
  {
   "cell_type": "code",
   "execution_count": 2,
   "id": "9e1c1cdd-f144-4d71-83f5-2f7213d72458",
   "metadata": {},
   "outputs": [],
   "source": [
    "df1 = pd.read_csv(\"WRIED_p_TCGA_143_147_150_Hahn_N_GenomeWideSNP_6_F07_799994.nocnv_grch38.seg.v2.txt\", sep='\\t')\n",
    "df2 = pd.read_csv(\"TCGA-B6-A0WW-01A-11D-A893-36.WholeGenome.RP-1657.cr.igv.reheader.seg.txt\", sep='\\t')"
   ]
  },
  {
   "cell_type": "code",
   "execution_count": 3,
   "id": "5c276826-3a4e-4bcf-a4cc-8bf613f17387",
   "metadata": {
    "panel-layout": {
     "height": 0,
     "visible": true,
     "width": 100
    }
   },
   "outputs": [],
   "source": [
    "for df in [df1, df2]:\n",
    "    df.columns = [col.strip() for col in df.columns]\n",
    "    df['Start'] = df['Start'].astype(int)\n",
    "    df['End'] = df['End'].astype(int)\n",
    "    df['Num_Probes'] = df['Num_Probes'].astype(int)\n",
    "    df['Segment_Mean'] = df['Segment_Mean'].astype(float)\n",
    "\n",
    "df1[\"Chromosome\"] = \"chr\" + df1[\"Chromosome\"]\n",
    "df1.rename(columns={'GDC_Aliquot': 'GDC_Aliquot_ID'}, inplace=True)"
   ]
  },
  {
   "cell_type": "code",
   "execution_count": 4,
   "id": "e076ad98-8125-48f5-b14c-7f91b23b7fdf",
   "metadata": {
    "panel-layout": {
     "height": 170,
     "visible": true,
     "width": 100
    }
   },
   "outputs": [
    {
     "data": {
      "text/html": [
       "<div>\n",
       "<style scoped>\n",
       "    .dataframe tbody tr th:only-of-type {\n",
       "        vertical-align: middle;\n",
       "    }\n",
       "\n",
       "    .dataframe tbody tr th {\n",
       "        vertical-align: top;\n",
       "    }\n",
       "\n",
       "    .dataframe thead th {\n",
       "        text-align: right;\n",
       "    }\n",
       "</style>\n",
       "<table border=\"1\" class=\"dataframe\">\n",
       "  <thead>\n",
       "    <tr style=\"text-align: right;\">\n",
       "      <th></th>\n",
       "      <th>GDC_Aliquot_ID</th>\n",
       "      <th>Chromosome</th>\n",
       "      <th>Start</th>\n",
       "      <th>End</th>\n",
       "      <th>Num_Probes</th>\n",
       "      <th>Segment_Mean</th>\n",
       "    </tr>\n",
       "  </thead>\n",
       "  <tbody>\n",
       "    <tr>\n",
       "      <th>0</th>\n",
       "      <td>a76e695c-a58b-40a7-9396-7e88734075f2</td>\n",
       "      <td>chr1</td>\n",
       "      <td>3301765</td>\n",
       "      <td>247650984</td>\n",
       "      <td>128894</td>\n",
       "      <td>0.0102</td>\n",
       "    </tr>\n",
       "    <tr>\n",
       "      <th>1</th>\n",
       "      <td>a76e695c-a58b-40a7-9396-7e88734075f2</td>\n",
       "      <td>chr2</td>\n",
       "      <td>480597</td>\n",
       "      <td>241537572</td>\n",
       "      <td>131362</td>\n",
       "      <td>0.0132</td>\n",
       "    </tr>\n",
       "    <tr>\n",
       "      <th>2</th>\n",
       "      <td>a76e695c-a58b-40a7-9396-7e88734075f2</td>\n",
       "      <td>chr3</td>\n",
       "      <td>2170634</td>\n",
       "      <td>197812401</td>\n",
       "      <td>106517</td>\n",
       "      <td>0.0111</td>\n",
       "    </tr>\n",
       "    <tr>\n",
       "      <th>3</th>\n",
       "      <td>a76e695c-a58b-40a7-9396-7e88734075f2</td>\n",
       "      <td>chr4</td>\n",
       "      <td>1059384</td>\n",
       "      <td>78381210</td>\n",
       "      <td>43006</td>\n",
       "      <td>0.0133</td>\n",
       "    </tr>\n",
       "    <tr>\n",
       "      <th>4</th>\n",
       "      <td>a76e695c-a58b-40a7-9396-7e88734075f2</td>\n",
       "      <td>chr4</td>\n",
       "      <td>78381703</td>\n",
       "      <td>78383072</td>\n",
       "      <td>2</td>\n",
       "      <td>-1.8840</td>\n",
       "    </tr>\n",
       "  </tbody>\n",
       "</table>\n",
       "</div>"
      ],
      "text/plain": [
       "                         GDC_Aliquot_ID Chromosome     Start        End  \\\n",
       "0  a76e695c-a58b-40a7-9396-7e88734075f2       chr1   3301765  247650984   \n",
       "1  a76e695c-a58b-40a7-9396-7e88734075f2       chr2    480597  241537572   \n",
       "2  a76e695c-a58b-40a7-9396-7e88734075f2       chr3   2170634  197812401   \n",
       "3  a76e695c-a58b-40a7-9396-7e88734075f2       chr4   1059384   78381210   \n",
       "4  a76e695c-a58b-40a7-9396-7e88734075f2       chr4  78381703   78383072   \n",
       "\n",
       "   Num_Probes  Segment_Mean  \n",
       "0      128894        0.0102  \n",
       "1      131362        0.0132  \n",
       "2      106517        0.0111  \n",
       "3       43006        0.0133  \n",
       "4           2       -1.8840  "
      ]
     },
     "execution_count": 4,
     "metadata": {},
     "output_type": "execute_result"
    }
   ],
   "source": [
    "df1.head()"
   ]
  },
  {
   "cell_type": "code",
   "execution_count": 5,
   "id": "6b68b988-f779-49ac-8b94-486373a20051",
   "metadata": {
    "panel-layout": {
     "height": 170,
     "visible": true,
     "width": 100
    }
   },
   "outputs": [
    {
     "data": {
      "text/html": [
       "<div>\n",
       "<style scoped>\n",
       "    .dataframe tbody tr th:only-of-type {\n",
       "        vertical-align: middle;\n",
       "    }\n",
       "\n",
       "    .dataframe tbody tr th {\n",
       "        vertical-align: top;\n",
       "    }\n",
       "\n",
       "    .dataframe thead th {\n",
       "        text-align: right;\n",
       "    }\n",
       "</style>\n",
       "<table border=\"1\" class=\"dataframe\">\n",
       "  <thead>\n",
       "    <tr style=\"text-align: right;\">\n",
       "      <th></th>\n",
       "      <th>GDC_Aliquot_ID</th>\n",
       "      <th>Chromosome</th>\n",
       "      <th>Start</th>\n",
       "      <th>End</th>\n",
       "      <th>Num_Probes</th>\n",
       "      <th>Segment_Mean</th>\n",
       "    </tr>\n",
       "  </thead>\n",
       "  <tbody>\n",
       "    <tr>\n",
       "      <th>0</th>\n",
       "      <td>TCGA-B6-A0WW-01A-11D-A893-36</td>\n",
       "      <td>chr1</td>\n",
       "      <td>17001</td>\n",
       "      <td>3442000</td>\n",
       "      <td>2477</td>\n",
       "      <td>-0.584300</td>\n",
       "    </tr>\n",
       "    <tr>\n",
       "      <th>1</th>\n",
       "      <td>TCGA-B6-A0WW-01A-11D-A893-36</td>\n",
       "      <td>chr1</td>\n",
       "      <td>3442001</td>\n",
       "      <td>4989000</td>\n",
       "      <td>1534</td>\n",
       "      <td>-0.589811</td>\n",
       "    </tr>\n",
       "    <tr>\n",
       "      <th>2</th>\n",
       "      <td>TCGA-B6-A0WW-01A-11D-A893-36</td>\n",
       "      <td>chr1</td>\n",
       "      <td>4989001</td>\n",
       "      <td>6237000</td>\n",
       "      <td>1244</td>\n",
       "      <td>-0.596118</td>\n",
       "    </tr>\n",
       "    <tr>\n",
       "      <th>3</th>\n",
       "      <td>TCGA-B6-A0WW-01A-11D-A893-36</td>\n",
       "      <td>chr1</td>\n",
       "      <td>6237001</td>\n",
       "      <td>6617000</td>\n",
       "      <td>380</td>\n",
       "      <td>-0.592201</td>\n",
       "    </tr>\n",
       "    <tr>\n",
       "      <th>4</th>\n",
       "      <td>TCGA-B6-A0WW-01A-11D-A893-36</td>\n",
       "      <td>chr1</td>\n",
       "      <td>6617001</td>\n",
       "      <td>7046000</td>\n",
       "      <td>429</td>\n",
       "      <td>-0.613918</td>\n",
       "    </tr>\n",
       "  </tbody>\n",
       "</table>\n",
       "</div>"
      ],
      "text/plain": [
       "                 GDC_Aliquot_ID Chromosome    Start      End  Num_Probes  \\\n",
       "0  TCGA-B6-A0WW-01A-11D-A893-36       chr1    17001  3442000        2477   \n",
       "1  TCGA-B6-A0WW-01A-11D-A893-36       chr1  3442001  4989000        1534   \n",
       "2  TCGA-B6-A0WW-01A-11D-A893-36       chr1  4989001  6237000        1244   \n",
       "3  TCGA-B6-A0WW-01A-11D-A893-36       chr1  6237001  6617000         380   \n",
       "4  TCGA-B6-A0WW-01A-11D-A893-36       chr1  6617001  7046000         429   \n",
       "\n",
       "   Segment_Mean  \n",
       "0     -0.584300  \n",
       "1     -0.589811  \n",
       "2     -0.596118  \n",
       "3     -0.592201  \n",
       "4     -0.613918  "
      ]
     },
     "execution_count": 5,
     "metadata": {},
     "output_type": "execute_result"
    }
   ],
   "source": [
    "df2.head()"
   ]
  },
  {
   "cell_type": "code",
   "execution_count": 6,
   "id": "cd014e86-b789-49cc-ab0e-7a6857e226e0",
   "metadata": {
    "panel-layout": {
     "height": 170,
     "visible": true,
     "width": 100
    }
   },
   "outputs": [
    {
     "data": {
      "text/html": [
       "<div>\n",
       "<style scoped>\n",
       "    .dataframe tbody tr th:only-of-type {\n",
       "        vertical-align: middle;\n",
       "    }\n",
       "\n",
       "    .dataframe tbody tr th {\n",
       "        vertical-align: top;\n",
       "    }\n",
       "\n",
       "    .dataframe thead th {\n",
       "        text-align: right;\n",
       "    }\n",
       "</style>\n",
       "<table border=\"1\" class=\"dataframe\">\n",
       "  <thead>\n",
       "    <tr style=\"text-align: right;\">\n",
       "      <th></th>\n",
       "      <th>GDC_Aliquot_ID</th>\n",
       "      <th>Chromosome</th>\n",
       "      <th>Start</th>\n",
       "      <th>End</th>\n",
       "      <th>Num_Probes</th>\n",
       "      <th>Segment_Mean</th>\n",
       "    </tr>\n",
       "  </thead>\n",
       "  <tbody>\n",
       "    <tr>\n",
       "      <th>0</th>\n",
       "      <td>a76e695c-a58b-40a7-9396-7e88734075f2</td>\n",
       "      <td>chr1</td>\n",
       "      <td>3301765</td>\n",
       "      <td>247650984</td>\n",
       "      <td>128894</td>\n",
       "      <td>0.0102</td>\n",
       "    </tr>\n",
       "    <tr>\n",
       "      <th>1</th>\n",
       "      <td>a76e695c-a58b-40a7-9396-7e88734075f2</td>\n",
       "      <td>chr2</td>\n",
       "      <td>480597</td>\n",
       "      <td>241537572</td>\n",
       "      <td>131362</td>\n",
       "      <td>0.0132</td>\n",
       "    </tr>\n",
       "    <tr>\n",
       "      <th>2</th>\n",
       "      <td>a76e695c-a58b-40a7-9396-7e88734075f2</td>\n",
       "      <td>chr3</td>\n",
       "      <td>2170634</td>\n",
       "      <td>197812401</td>\n",
       "      <td>106517</td>\n",
       "      <td>0.0111</td>\n",
       "    </tr>\n",
       "    <tr>\n",
       "      <th>3</th>\n",
       "      <td>a76e695c-a58b-40a7-9396-7e88734075f2</td>\n",
       "      <td>chr4</td>\n",
       "      <td>1059384</td>\n",
       "      <td>78381210</td>\n",
       "      <td>43006</td>\n",
       "      <td>0.0133</td>\n",
       "    </tr>\n",
       "    <tr>\n",
       "      <th>4</th>\n",
       "      <td>a76e695c-a58b-40a7-9396-7e88734075f2</td>\n",
       "      <td>chr4</td>\n",
       "      <td>78381703</td>\n",
       "      <td>78383072</td>\n",
       "      <td>2</td>\n",
       "      <td>-1.8840</td>\n",
       "    </tr>\n",
       "  </tbody>\n",
       "</table>\n",
       "</div>"
      ],
      "text/plain": [
       "                         GDC_Aliquot_ID Chromosome     Start        End  \\\n",
       "0  a76e695c-a58b-40a7-9396-7e88734075f2       chr1   3301765  247650984   \n",
       "1  a76e695c-a58b-40a7-9396-7e88734075f2       chr2    480597  241537572   \n",
       "2  a76e695c-a58b-40a7-9396-7e88734075f2       chr3   2170634  197812401   \n",
       "3  a76e695c-a58b-40a7-9396-7e88734075f2       chr4   1059384   78381210   \n",
       "4  a76e695c-a58b-40a7-9396-7e88734075f2       chr4  78381703   78383072   \n",
       "\n",
       "   Num_Probes  Segment_Mean  \n",
       "0      128894        0.0102  \n",
       "1      131362        0.0132  \n",
       "2      106517        0.0111  \n",
       "3       43006        0.0133  \n",
       "4           2       -1.8840  "
      ]
     },
     "execution_count": 6,
     "metadata": {},
     "output_type": "execute_result"
    }
   ],
   "source": [
    "df = pd.concat([df1, df2], axis=0)\n",
    "df.head()"
   ]
  },
  {
   "cell_type": "code",
   "execution_count": 7,
   "id": "5e8d26d7-5193-4739-a3ba-9227da80b880",
   "metadata": {
    "panel-layout": {
     "height": 170,
     "visible": true,
     "width": 100
    }
   },
   "outputs": [
    {
     "data": {
      "text/html": [
       "<div>\n",
       "<style scoped>\n",
       "    .dataframe tbody tr th:only-of-type {\n",
       "        vertical-align: middle;\n",
       "    }\n",
       "\n",
       "    .dataframe tbody tr th {\n",
       "        vertical-align: top;\n",
       "    }\n",
       "\n",
       "    .dataframe thead th {\n",
       "        text-align: right;\n",
       "    }\n",
       "</style>\n",
       "<table border=\"1\" class=\"dataframe\">\n",
       "  <thead>\n",
       "    <tr style=\"text-align: right;\">\n",
       "      <th></th>\n",
       "      <th>GDC_Aliquot_ID</th>\n",
       "      <th>Chromosome</th>\n",
       "      <th>Start</th>\n",
       "      <th>End</th>\n",
       "      <th>Num_Probes</th>\n",
       "      <th>Segment_Mean</th>\n",
       "    </tr>\n",
       "  </thead>\n",
       "  <tbody>\n",
       "    <tr>\n",
       "      <th>0</th>\n",
       "      <td>a76e695c-a58b-40a7-9396-7e88734075f2</td>\n",
       "      <td>chr1</td>\n",
       "      <td>3301765</td>\n",
       "      <td>247650984</td>\n",
       "      <td>128894</td>\n",
       "      <td>0.0102</td>\n",
       "    </tr>\n",
       "    <tr>\n",
       "      <th>1</th>\n",
       "      <td>a76e695c-a58b-40a7-9396-7e88734075f2</td>\n",
       "      <td>chr2</td>\n",
       "      <td>480597</td>\n",
       "      <td>241537572</td>\n",
       "      <td>131362</td>\n",
       "      <td>0.0132</td>\n",
       "    </tr>\n",
       "    <tr>\n",
       "      <th>2</th>\n",
       "      <td>a76e695c-a58b-40a7-9396-7e88734075f2</td>\n",
       "      <td>chr3</td>\n",
       "      <td>2170634</td>\n",
       "      <td>197812401</td>\n",
       "      <td>106517</td>\n",
       "      <td>0.0111</td>\n",
       "    </tr>\n",
       "    <tr>\n",
       "      <th>3</th>\n",
       "      <td>a76e695c-a58b-40a7-9396-7e88734075f2</td>\n",
       "      <td>chr4</td>\n",
       "      <td>1059384</td>\n",
       "      <td>78381210</td>\n",
       "      <td>43006</td>\n",
       "      <td>0.0133</td>\n",
       "    </tr>\n",
       "    <tr>\n",
       "      <th>4</th>\n",
       "      <td>a76e695c-a58b-40a7-9396-7e88734075f2</td>\n",
       "      <td>chr4</td>\n",
       "      <td>78381703</td>\n",
       "      <td>78383072</td>\n",
       "      <td>2</td>\n",
       "      <td>-1.8840</td>\n",
       "    </tr>\n",
       "  </tbody>\n",
       "</table>\n",
       "</div>"
      ],
      "text/plain": [
       "                         GDC_Aliquot_ID Chromosome     Start        End  \\\n",
       "0  a76e695c-a58b-40a7-9396-7e88734075f2       chr1   3301765  247650984   \n",
       "1  a76e695c-a58b-40a7-9396-7e88734075f2       chr2    480597  241537572   \n",
       "2  a76e695c-a58b-40a7-9396-7e88734075f2       chr3   2170634  197812401   \n",
       "3  a76e695c-a58b-40a7-9396-7e88734075f2       chr4   1059384   78381210   \n",
       "4  a76e695c-a58b-40a7-9396-7e88734075f2       chr4  78381703   78383072   \n",
       "\n",
       "   Num_Probes  Segment_Mean  \n",
       "0      128894        0.0102  \n",
       "1      131362        0.0132  \n",
       "2      106517        0.0111  \n",
       "3       43006        0.0133  \n",
       "4           2       -1.8840  "
      ]
     },
     "execution_count": 7,
     "metadata": {},
     "output_type": "execute_result"
    }
   ],
   "source": [
    "df.reset_index(drop=True, inplace=True)\n",
    "df.head()"
   ]
  },
  {
   "cell_type": "code",
   "execution_count": 8,
   "id": "44c8a497-23a1-4662-82f8-24cc4bcff4a4",
   "metadata": {
    "panel-layout": {
     "height": 0,
     "visible": true,
     "width": 100
    }
   },
   "outputs": [
    {
     "name": "stdout",
     "output_type": "stream",
     "text": [
      "-0.8811248351101635 \n",
      " 3.595784541469069\n"
     ]
    }
   ],
   "source": [
    "mean_val = df['Segment_Mean'].mean()\n",
    "std_val = df['Segment_Mean'].std()\n",
    "\n",
    "print(mean_val, \"\\n\", std_val)"
   ]
  },
  {
   "cell_type": "code",
   "execution_count": 9,
   "id": "d79b431a-691e-4ca2-8f66-589422d8d336",
   "metadata": {
    "panel-layout": {
     "height": 170,
     "visible": true,
     "width": 100
    }
   },
   "outputs": [
    {
     "data": {
      "text/html": [
       "<div>\n",
       "<style scoped>\n",
       "    .dataframe tbody tr th:only-of-type {\n",
       "        vertical-align: middle;\n",
       "    }\n",
       "\n",
       "    .dataframe tbody tr th {\n",
       "        vertical-align: top;\n",
       "    }\n",
       "\n",
       "    .dataframe thead th {\n",
       "        text-align: right;\n",
       "    }\n",
       "</style>\n",
       "<table border=\"1\" class=\"dataframe\">\n",
       "  <thead>\n",
       "    <tr style=\"text-align: right;\">\n",
       "      <th></th>\n",
       "      <th>GDC_Aliquot_ID</th>\n",
       "      <th>Chromosome</th>\n",
       "      <th>Start</th>\n",
       "      <th>End</th>\n",
       "      <th>Num_Probes</th>\n",
       "      <th>Segment_Mean</th>\n",
       "      <th>Z_Score</th>\n",
       "    </tr>\n",
       "  </thead>\n",
       "  <tbody>\n",
       "    <tr>\n",
       "      <th>0</th>\n",
       "      <td>a76e695c-a58b-40a7-9396-7e88734075f2</td>\n",
       "      <td>chr1</td>\n",
       "      <td>3301765</td>\n",
       "      <td>247650984</td>\n",
       "      <td>128894</td>\n",
       "      <td>0.0102</td>\n",
       "      <td>0.247880</td>\n",
       "    </tr>\n",
       "    <tr>\n",
       "      <th>1</th>\n",
       "      <td>a76e695c-a58b-40a7-9396-7e88734075f2</td>\n",
       "      <td>chr2</td>\n",
       "      <td>480597</td>\n",
       "      <td>241537572</td>\n",
       "      <td>131362</td>\n",
       "      <td>0.0132</td>\n",
       "      <td>0.248715</td>\n",
       "    </tr>\n",
       "    <tr>\n",
       "      <th>2</th>\n",
       "      <td>a76e695c-a58b-40a7-9396-7e88734075f2</td>\n",
       "      <td>chr3</td>\n",
       "      <td>2170634</td>\n",
       "      <td>197812401</td>\n",
       "      <td>106517</td>\n",
       "      <td>0.0111</td>\n",
       "      <td>0.248131</td>\n",
       "    </tr>\n",
       "    <tr>\n",
       "      <th>3</th>\n",
       "      <td>a76e695c-a58b-40a7-9396-7e88734075f2</td>\n",
       "      <td>chr4</td>\n",
       "      <td>1059384</td>\n",
       "      <td>78381210</td>\n",
       "      <td>43006</td>\n",
       "      <td>0.0133</td>\n",
       "      <td>0.248743</td>\n",
       "    </tr>\n",
       "    <tr>\n",
       "      <th>4</th>\n",
       "      <td>a76e695c-a58b-40a7-9396-7e88734075f2</td>\n",
       "      <td>chr4</td>\n",
       "      <td>78381703</td>\n",
       "      <td>78383072</td>\n",
       "      <td>2</td>\n",
       "      <td>-1.8840</td>\n",
       "      <td>-0.278903</td>\n",
       "    </tr>\n",
       "  </tbody>\n",
       "</table>\n",
       "</div>"
      ],
      "text/plain": [
       "                         GDC_Aliquot_ID Chromosome     Start        End  \\\n",
       "0  a76e695c-a58b-40a7-9396-7e88734075f2       chr1   3301765  247650984   \n",
       "1  a76e695c-a58b-40a7-9396-7e88734075f2       chr2    480597  241537572   \n",
       "2  a76e695c-a58b-40a7-9396-7e88734075f2       chr3   2170634  197812401   \n",
       "3  a76e695c-a58b-40a7-9396-7e88734075f2       chr4   1059384   78381210   \n",
       "4  a76e695c-a58b-40a7-9396-7e88734075f2       chr4  78381703   78383072   \n",
       "\n",
       "   Num_Probes  Segment_Mean   Z_Score  \n",
       "0      128894        0.0102  0.247880  \n",
       "1      131362        0.0132  0.248715  \n",
       "2      106517        0.0111  0.248131  \n",
       "3       43006        0.0133  0.248743  \n",
       "4           2       -1.8840 -0.278903  "
      ]
     },
     "execution_count": 9,
     "metadata": {},
     "output_type": "execute_result"
    }
   ],
   "source": [
    "df['Z_Score'] = (df['Segment_Mean'] - mean_val) / std_val\n",
    "df.head()"
   ]
  },
  {
   "cell_type": "code",
   "execution_count": 10,
   "id": "b5a5c583-27e8-47f7-8f11-16cca1253d43",
   "metadata": {},
   "outputs": [],
   "source": [
    "def classify(z):\n",
    "    if z > 2:\n",
    "        return 'Amplified'\n",
    "    elif z < -2:\n",
    "        return 'Deleted'\n",
    "    else:\n",
    "        return 'Normal'\n",
    "\n",
    "df['CNV_Type'] = df['Z_Score'].apply(classify)"
   ]
  },
  {
   "cell_type": "code",
   "execution_count": 11,
   "id": "50bed5dc-eff1-43f2-8be1-76a24ef82e23",
   "metadata": {
    "panel-layout": {
     "height": 170,
     "visible": true,
     "width": 100
    }
   },
   "outputs": [
    {
     "data": {
      "text/html": [
       "<div>\n",
       "<style scoped>\n",
       "    .dataframe tbody tr th:only-of-type {\n",
       "        vertical-align: middle;\n",
       "    }\n",
       "\n",
       "    .dataframe tbody tr th {\n",
       "        vertical-align: top;\n",
       "    }\n",
       "\n",
       "    .dataframe thead th {\n",
       "        text-align: right;\n",
       "    }\n",
       "</style>\n",
       "<table border=\"1\" class=\"dataframe\">\n",
       "  <thead>\n",
       "    <tr style=\"text-align: right;\">\n",
       "      <th></th>\n",
       "      <th>GDC_Aliquot_ID</th>\n",
       "      <th>Chromosome</th>\n",
       "      <th>Start</th>\n",
       "      <th>End</th>\n",
       "      <th>Num_Probes</th>\n",
       "      <th>Segment_Mean</th>\n",
       "      <th>Z_Score</th>\n",
       "      <th>CNV_Type</th>\n",
       "    </tr>\n",
       "  </thead>\n",
       "  <tbody>\n",
       "    <tr>\n",
       "      <th>0</th>\n",
       "      <td>a76e695c-a58b-40a7-9396-7e88734075f2</td>\n",
       "      <td>chr1</td>\n",
       "      <td>3301765</td>\n",
       "      <td>247650984</td>\n",
       "      <td>128894</td>\n",
       "      <td>0.0102</td>\n",
       "      <td>0.247880</td>\n",
       "      <td>Normal</td>\n",
       "    </tr>\n",
       "    <tr>\n",
       "      <th>1</th>\n",
       "      <td>a76e695c-a58b-40a7-9396-7e88734075f2</td>\n",
       "      <td>chr2</td>\n",
       "      <td>480597</td>\n",
       "      <td>241537572</td>\n",
       "      <td>131362</td>\n",
       "      <td>0.0132</td>\n",
       "      <td>0.248715</td>\n",
       "      <td>Normal</td>\n",
       "    </tr>\n",
       "    <tr>\n",
       "      <th>2</th>\n",
       "      <td>a76e695c-a58b-40a7-9396-7e88734075f2</td>\n",
       "      <td>chr3</td>\n",
       "      <td>2170634</td>\n",
       "      <td>197812401</td>\n",
       "      <td>106517</td>\n",
       "      <td>0.0111</td>\n",
       "      <td>0.248131</td>\n",
       "      <td>Normal</td>\n",
       "    </tr>\n",
       "    <tr>\n",
       "      <th>3</th>\n",
       "      <td>a76e695c-a58b-40a7-9396-7e88734075f2</td>\n",
       "      <td>chr4</td>\n",
       "      <td>1059384</td>\n",
       "      <td>78381210</td>\n",
       "      <td>43006</td>\n",
       "      <td>0.0133</td>\n",
       "      <td>0.248743</td>\n",
       "      <td>Normal</td>\n",
       "    </tr>\n",
       "    <tr>\n",
       "      <th>4</th>\n",
       "      <td>a76e695c-a58b-40a7-9396-7e88734075f2</td>\n",
       "      <td>chr4</td>\n",
       "      <td>78381703</td>\n",
       "      <td>78383072</td>\n",
       "      <td>2</td>\n",
       "      <td>-1.8840</td>\n",
       "      <td>-0.278903</td>\n",
       "      <td>Normal</td>\n",
       "    </tr>\n",
       "  </tbody>\n",
       "</table>\n",
       "</div>"
      ],
      "text/plain": [
       "                         GDC_Aliquot_ID Chromosome     Start        End  \\\n",
       "0  a76e695c-a58b-40a7-9396-7e88734075f2       chr1   3301765  247650984   \n",
       "1  a76e695c-a58b-40a7-9396-7e88734075f2       chr2    480597  241537572   \n",
       "2  a76e695c-a58b-40a7-9396-7e88734075f2       chr3   2170634  197812401   \n",
       "3  a76e695c-a58b-40a7-9396-7e88734075f2       chr4   1059384   78381210   \n",
       "4  a76e695c-a58b-40a7-9396-7e88734075f2       chr4  78381703   78383072   \n",
       "\n",
       "   Num_Probes  Segment_Mean   Z_Score CNV_Type  \n",
       "0      128894        0.0102  0.247880   Normal  \n",
       "1      131362        0.0132  0.248715   Normal  \n",
       "2      106517        0.0111  0.248131   Normal  \n",
       "3       43006        0.0133  0.248743   Normal  \n",
       "4           2       -1.8840 -0.278903   Normal  "
      ]
     },
     "execution_count": 11,
     "metadata": {},
     "output_type": "execute_result"
    }
   ],
   "source": [
    "df.head()"
   ]
  },
  {
   "cell_type": "code",
   "execution_count": 12,
   "id": "06b90488-1730-4740-be0c-635f7cb9525f",
   "metadata": {
    "panel-layout": {
     "height": 117,
     "visible": true,
     "width": 100
    }
   },
   "outputs": [
    {
     "data": {
      "text/plain": [
       "CNV_Type\n",
       "Normal     1376\n",
       "Deleted      31\n",
       "Name: count, dtype: int64"
      ]
     },
     "execution_count": 12,
     "metadata": {},
     "output_type": "execute_result"
    }
   ],
   "source": [
    "df['CNV_Type'].value_counts()"
   ]
  },
  {
   "cell_type": "code",
   "execution_count": 13,
   "id": "c943affd-ca63-4438-a22f-7f66dc94ccd2",
   "metadata": {
    "panel-layout": {
     "height": 701,
     "visible": true,
     "width": 100
    }
   },
   "outputs": [
    {
     "data": {
      "image/png": "[encoded data removed]",
      "text/plain": [
       "<Figure size 640x480 with 1 Axes>"
      ]
     },
     "metadata": {},
     "output_type": "display_data"
    }
   ],
   "source": [
    "sns.countplot(data=df, x='CNV_Type')\n",
    "\n",
    "plt.title(\"CNV Type Count\")\n",
    "plt.ylabel(\"Count\")\n",
    "plt.show()"
   ]
  },
  {
   "cell_type": "code",
   "execution_count": 14,
   "id": "65710135-9e9d-4946-a79f-1444a23fb6ee",
   "metadata": {
    "panel-layout": {
     "height": 897.5,
     "visible": true,
     "width": 100
    }
   },
   "outputs": [
    {
     "data": {
      "text/html": [
       "<div>\n",
       "<style scoped>\n",
       "    .dataframe tbody tr th:only-of-type {\n",
       "        vertical-align: middle;\n",
       "    }\n",
       "\n",
       "    .dataframe tbody tr th {\n",
       "        vertical-align: top;\n",
       "    }\n",
       "\n",
       "    .dataframe thead th {\n",
       "        text-align: right;\n",
       "    }\n",
       "</style>\n",
       "<table border=\"1\" class=\"dataframe\">\n",
       "  <thead>\n",
       "    <tr style=\"text-align: right;\">\n",
       "      <th>CNV_Type</th>\n",
       "      <th>Deleted</th>\n",
       "      <th>Normal</th>\n",
       "    </tr>\n",
       "    <tr>\n",
       "      <th>Chromosome</th>\n",
       "      <th></th>\n",
       "      <th></th>\n",
       "    </tr>\n",
       "  </thead>\n",
       "  <tbody>\n",
       "    <tr>\n",
       "      <th>chr1</th>\n",
       "      <td>2.0</td>\n",
       "      <td>74.0</td>\n",
       "    </tr>\n",
       "    <tr>\n",
       "      <th>chr10</th>\n",
       "      <td>2.0</td>\n",
       "      <td>8.0</td>\n",
       "    </tr>\n",
       "    <tr>\n",
       "      <th>chr11</th>\n",
       "      <td>0.0</td>\n",
       "      <td>83.0</td>\n",
       "    </tr>\n",
       "    <tr>\n",
       "      <th>chr12</th>\n",
       "      <td>0.0</td>\n",
       "      <td>10.0</td>\n",
       "    </tr>\n",
       "    <tr>\n",
       "      <th>chr13</th>\n",
       "      <td>0.0</td>\n",
       "      <td>99.0</td>\n",
       "    </tr>\n",
       "  </tbody>\n",
       "</table>\n",
       "</div>"
      ],
      "text/plain": [
       "CNV_Type    Deleted  Normal\n",
       "Chromosome                 \n",
       "chr1            2.0    74.0\n",
       "chr10           2.0     8.0\n",
       "chr11           0.0    83.0\n",
       "chr12           0.0    10.0\n",
       "chr13           0.0    99.0"
      ]
     },
     "execution_count": 14,
     "metadata": {},
     "output_type": "execute_result"
    }
   ],
   "source": [
    "heatmap_data = df.groupby(['Chromosome', 'CNV_Type']).size().unstack().fillna(0)\n",
    "heatmap_data.head()"
   ]
  },
  {
   "cell_type": "code",
   "execution_count": 15,
   "id": "7d25c060-9922-4737-9d44-2f3fa52d97b4",
   "metadata": {
    "panel-layout": {
     "height": 701,
     "visible": true,
     "width": 100
    }
   },
   "outputs": [
    {
     "data": {
      "image/png": "[encoded data removed]",
      "text/plain": [
       "<Figure size 640x480 with 2 Axes>"
      ]
     },
     "metadata": {},
     "output_type": "display_data"
    }
   ],
   "source": [
    "sns.heatmap(heatmap_data, cmap=\"YlGnBu\", annot=True, fmt='g')\n",
    "\n",
    "plt.title(\"CNV Classification per Chromosome\")\n",
    "plt.ylabel(\"Chromosome\")\n",
    "plt.xlabel(\"CNV Type\")\n",
    "plt.show()"
   ]
  },
  {
   "cell_type": "code",
   "execution_count": 16,
   "id": "4b36aa0d-6329-441a-b1aa-4cf047a942db",
   "metadata": {
    "panel-layout": {
     "height": 1162,
     "visible": true,
     "width": 100
    }
   },
   "outputs": [
    {
     "data": {
      "image/png": "[encoded data removed]",
      "text/plain": [
       "<Figure size 2000x800 with 2 Axes>"
      ]
     },
     "metadata": {},
     "output_type": "display_data"
    }
   ],
   "source": [
    "# --- Step 2: Create a heatmap matrix from real CNV data ---\n",
    "\n",
    "# Define chromosomes and genomic bins (adjust bin size or count as per your data)\n",
    "chromosomes = [str(i) for i in range(1, 23)] + ['X', 'Y']\n",
    "bin_size = 1_000_000  # 1Mb bins\n",
    "max_bin = 50  # example, can be adjusted based on genome length or data coverage\n",
    "\n",
    "# Initialize matrix to hold average Segment_Mean per chromosome per bin\n",
    "heatmap_matrix = pd.DataFrame(\n",
    "    np.nan,  # Initialize with NaNs to fill in later\n",
    "    index=chromosomes,\n",
    "    columns=range(max_bin)\n",
    ")\n",
    "\n",
    "# Function to map genomic coordinates to bins\n",
    "def get_bin(start_pos, bin_size):\n",
    "    return start_pos // bin_size\n",
    "\n",
    "# Aggregate Segment_Mean values into bins per chromosome\n",
    "for chrom in chromosomes:\n",
    "    chrom_df = df[df['Chromosome'].str.replace('chr', '') == chrom]\n",
    "    for bin_idx in range(max_bin):\n",
    "        bin_start = bin_idx * bin_size\n",
    "        bin_end = bin_start + bin_size\n",
    "        # Select segments overlapping this bin\n",
    "        bin_segments = chrom_df[\n",
    "            (chrom_df['Start'] < bin_end) & (chrom_df['End'] > bin_start)\n",
    "        ]\n",
    "        if not bin_segments.empty:\n",
    "            # Take mean of Segment_Mean within overlapping segments\n",
    "            heatmap_matrix.loc[chrom, bin_idx] = bin_segments['Segment_Mean'].mean()\n",
    "\n",
    "# Fill NaNs with 0 (or another value you prefer)\n",
    "heatmap_matrix.fillna(0, inplace=True)\n",
    "\n",
    "# --- Step 3: Create checkerboard pattern of same shape as heatmap matrix ---\n",
    "checkerboard = np.zeros_like(heatmap_matrix, dtype=int)\n",
    "for i in range(checkerboard.shape[0]):\n",
    "    for j in range(checkerboard.shape[1]):\n",
    "        # Color1 if sum of indices even, Color2 if odd (classic checkerboard)\n",
    "        checkerboard[i, j] = (i + j) % 2\n",
    "\n",
    "# --- Step 4: Plot checkerboard + heatmap overlay ---\n",
    "\n",
    "fig, ax = plt.subplots(figsize=(20, 8))\n",
    "\n",
    "# Plot checkerboard background with low opacity\n",
    "ax.imshow(checkerboard, cmap='Greys', interpolation='none', alpha=0.3)\n",
    "\n",
    "# Overlay heatmap on top\n",
    "sns.heatmap(\n",
    "    heatmap_matrix,\n",
    "    cmap='RdBu_r',\n",
    "    center=0,\n",
    "    ax=ax,\n",
    "    cbar_kws={'label': 'Segment_Mean'},\n",
    "    linewidths=0.5,\n",
    "    linecolor='gray',\n",
    "    square=True\n",
    ")\n",
    "\n",
    "# Labels and title\n",
    "ax.set_title('Chessboard-style Genome-wide CNV Heatmap (Real Data)')\n",
    "ax.set_xlabel('Genomic Bin (1 Mb)')\n",
    "ax.set_ylabel('Chromosome')\n",
    "\n",
    "plt.tight_layout()\n",
    "plt.show()"
   ]
  },
  {
   "cell_type": "code",
   "execution_count": null,
   "id": "c91f798e-5dc2-4801-9a34-e0d14e052cde",
   "metadata": {},
   "outputs": [],
   "source": []
  }
 ],
 "metadata": {
  "kernelspec": {
   "display_name": "Python [conda env:base] *",
   "language": "python",
   "name": "conda-base-py"
  },
  "language_info": {
   "codemirror_mode": {
    "name": "ipython",
    "version": 3
   },
   "file_extension": ".py",
   "mimetype": "text/x-python",
   "name": "python",
   "nbconvert_exporter": "python",
   "pygments_lexer": "ipython3",
   "version": "3.12.7"
  },
  "panel-cell-order": [
   "5c276826-3a4e-4bcf-a4cc-8bf613f17387",
   "e076ad98-8125-48f5-b14c-7f91b23b7fdf",
   "6b68b988-f779-49ac-8b94-486373a20051",
   "cd014e86-b789-49cc-ab0e-7a6857e226e0",
   "5e8d26d7-5193-4739-a3ba-9227da80b880",
   "44c8a497-23a1-4662-82f8-24cc4bcff4a4",
   "d79b431a-691e-4ca2-8f66-589422d8d336",
   "50bed5dc-eff1-43f2-8be1-76a24ef82e23",
   "06b90488-1730-4740-be0c-635f7cb9525f",
   "c943affd-ca63-4438-a22f-7f66dc94ccd2",
   "65710135-9e9d-4946-a79f-1444a23fb6ee",
   "7d25c060-9922-4737-9d44-2f3fa52d97b4",
   "4b36aa0d-6329-441a-b1aa-4cf047a942db"
  ]
 },
 "nbformat": 4,
 "nbformat_minor": 5
}
