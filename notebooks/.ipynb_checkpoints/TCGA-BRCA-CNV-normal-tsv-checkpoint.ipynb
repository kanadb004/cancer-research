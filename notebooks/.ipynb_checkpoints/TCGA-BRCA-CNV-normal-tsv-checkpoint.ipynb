{
 "cells": [
  {
   "cell_type": "code",
   "execution_count": 9,
   "id": "b2037c5a-e766-44d4-b556-b18f1463b74b",
   "metadata": {},
   "outputs": [],
   "source": [
    "import pandas as pd\n",
    "import numpy as np\n",
    "import matplotlib.pyplot as plt\n",
    "from sklearn.impute import SimpleImputer"
   ]
  },
  {
   "cell_type": "code",
   "execution_count": 10,
   "id": "37eff63a-5d8e-4c51-801e-e1066bf9408a",
   "metadata": {},
   "outputs": [],
   "source": [
    "df = pd.read_csv(\"TCGA-BRCA.ef16eca9-6bfa-4db1-860a-adccb484d2b3.ascat3.gene_level_copy_number.v36.tsv\", sep='\\t')"
   ]
  },
  {
   "cell_type": "code",
   "execution_count": 11,
   "id": "3bf8af64-5312-4dac-91b6-72e6e407878a",
   "metadata": {},
   "outputs": [],
   "source": [
    "df.columns = [col.strip() for col in df.columns]"
   ]
  },
  {
   "cell_type": "code",
   "execution_count": 21,
   "id": "3097ef37-44c6-495b-8471-8c1bdc7276e7",
   "metadata": {},
   "outputs": [
    {
     "name": "stdout",
     "output_type": "stream",
     "text": [
      "Missing values before:\n",
      " gene_id            0\n",
      "gene_name          0\n",
      "chromosome         0\n",
      "start              0\n",
      "end                0\n",
      "copy_number        0\n",
      "min_copy_number    0\n",
      "max_copy_number    0\n",
      "dtype: int64\n"
     ]
    }
   ],
   "source": [
    "missing = df.isnull().sum()\n",
    "print(\"Missing values before:\\n\", missing)"
   ]
  },
  {
   "cell_type": "code",
   "execution_count": 13,
   "id": "33a6189c-eb8f-4b93-9db8-8b956b5a42ee",
   "metadata": {},
   "outputs": [],
   "source": [
    "df['start'] = df['start'].astype(int)\n",
    "df['end'] = df['end'].astype(int)"
   ]
  },
  {
   "cell_type": "code",
   "execution_count": 14,
   "id": "a40ca7ba-f1ba-4947-950f-20903f414756",
   "metadata": {},
   "outputs": [],
   "source": [
    "def convert(x):\n",
    "    try:\n",
    "        return float(x)\n",
    "    except:\n",
    "        return np.nan\n",
    "\n",
    "for col in ['copy_number', 'min_copy_number', 'max_copy_number']:\n",
    "    df[col] = df[col].apply(convert)"
   ]
  },
  {
   "cell_type": "code",
   "execution_count": 15,
   "id": "845486b9-2fb2-4d7e-8742-cf26be647ccc",
   "metadata": {},
   "outputs": [
    {
     "name": "stdout",
     "output_type": "stream",
     "text": [
      "\n",
      "Missing entries AFTER cleaning:\n",
      "gene_id              0\n",
      "gene_name            0\n",
      "chromosome           0\n",
      "start                0\n",
      "end                  0\n",
      "copy_number        803\n",
      "min_copy_number    803\n",
      "max_copy_number    803\n",
      "dtype: int64\n"
     ]
    }
   ],
   "source": [
    "missing = df.isnull().sum()\n",
    "print(\"\\nMissing entries AFTER cleaning:\")\n",
    "print(missing)"
   ]
  },
  {
   "cell_type": "code",
   "execution_count": 16,
   "id": "bae8f9cb-5f37-4d98-8edb-adee2229d84f",
   "metadata": {},
   "outputs": [],
   "source": [
    "imputer = SimpleImputer(strategy='mean')\n",
    "df[['copy_number', 'min_copy_number', 'max_copy_number']] = imputer.fit_transform(\n",
    "    df[['copy_number', 'min_copy_number', 'max_copy_number']]\n",
    ")"
   ]
  },
  {
   "cell_type": "code",
   "execution_count": 17,
   "id": "9bc8145e-e22a-49fa-96af-e567d731d3c4",
   "metadata": {},
   "outputs": [],
   "source": [
    "df[['copy_number', 'min_copy_number', 'max_copy_number']] = df[[\n",
    "    'copy_number', 'min_copy_number', 'max_copy_number'\n",
    "]].astype(int)"
   ]
  },
  {
   "cell_type": "code",
   "execution_count": 20,
   "id": "b95facd9-ad7c-4606-be2e-406db11c5360",
   "metadata": {},
   "outputs": [
    {
     "data": {
      "text/html": [
       "<div>\n",
       "<style scoped>\n",
       "    .dataframe tbody tr th:only-of-type {\n",
       "        vertical-align: middle;\n",
       "    }\n",
       "\n",
       "    .dataframe tbody tr th {\n",
       "        vertical-align: top;\n",
       "    }\n",
       "\n",
       "    .dataframe thead th {\n",
       "        text-align: right;\n",
       "    }\n",
       "</style>\n",
       "<table border=\"1\" class=\"dataframe\">\n",
       "  <thead>\n",
       "    <tr style=\"text-align: right;\">\n",
       "      <th></th>\n",
       "      <th>gene_id</th>\n",
       "      <th>gene_name</th>\n",
       "      <th>chromosome</th>\n",
       "      <th>start</th>\n",
       "      <th>end</th>\n",
       "      <th>copy_number</th>\n",
       "      <th>min_copy_number</th>\n",
       "      <th>max_copy_number</th>\n",
       "    </tr>\n",
       "  </thead>\n",
       "  <tbody>\n",
       "    <tr>\n",
       "      <th>0</th>\n",
       "      <td>ENSG00000223972.5</td>\n",
       "      <td>DDX11L1</td>\n",
       "      <td>chr1</td>\n",
       "      <td>11869</td>\n",
       "      <td>14409</td>\n",
       "      <td>1</td>\n",
       "      <td>1</td>\n",
       "      <td>1</td>\n",
       "    </tr>\n",
       "    <tr>\n",
       "      <th>1</th>\n",
       "      <td>ENSG00000227232.5</td>\n",
       "      <td>WASH7P</td>\n",
       "      <td>chr1</td>\n",
       "      <td>14404</td>\n",
       "      <td>29570</td>\n",
       "      <td>1</td>\n",
       "      <td>1</td>\n",
       "      <td>1</td>\n",
       "    </tr>\n",
       "    <tr>\n",
       "      <th>2</th>\n",
       "      <td>ENSG00000278267.1</td>\n",
       "      <td>MIR6859-1</td>\n",
       "      <td>chr1</td>\n",
       "      <td>17369</td>\n",
       "      <td>17436</td>\n",
       "      <td>1</td>\n",
       "      <td>1</td>\n",
       "      <td>1</td>\n",
       "    </tr>\n",
       "    <tr>\n",
       "      <th>3</th>\n",
       "      <td>ENSG00000243485.5</td>\n",
       "      <td>MIR1302-2HG</td>\n",
       "      <td>chr1</td>\n",
       "      <td>29554</td>\n",
       "      <td>31109</td>\n",
       "      <td>1</td>\n",
       "      <td>1</td>\n",
       "      <td>1</td>\n",
       "    </tr>\n",
       "    <tr>\n",
       "      <th>4</th>\n",
       "      <td>ENSG00000284332.1</td>\n",
       "      <td>MIR1302-2</td>\n",
       "      <td>chr1</td>\n",
       "      <td>30366</td>\n",
       "      <td>30503</td>\n",
       "      <td>1</td>\n",
       "      <td>1</td>\n",
       "      <td>1</td>\n",
       "    </tr>\n",
       "  </tbody>\n",
       "</table>\n",
       "</div>"
      ],
      "text/plain": [
       "             gene_id    gene_name chromosome  start    end  copy_number  \\\n",
       "0  ENSG00000223972.5      DDX11L1       chr1  11869  14409            1   \n",
       "1  ENSG00000227232.5       WASH7P       chr1  14404  29570            1   \n",
       "2  ENSG00000278267.1    MIR6859-1       chr1  17369  17436            1   \n",
       "3  ENSG00000243485.5  MIR1302-2HG       chr1  29554  31109            1   \n",
       "4  ENSG00000284332.1    MIR1302-2       chr1  30366  30503            1   \n",
       "\n",
       "   min_copy_number  max_copy_number  \n",
       "0                1                1  \n",
       "1                1                1  \n",
       "2                1                1  \n",
       "3                1                1  \n",
       "4                1                1  "
      ]
     },
     "execution_count": 20,
     "metadata": {},
     "output_type": "execute_result"
    }
   ],
   "source": [
    "df.head()"
   ]
  },
  {
   "cell_type": "code",
   "execution_count": null,
   "id": "204f6294-3ca2-411b-afb2-68dcbea84cdc",
   "metadata": {},
   "outputs": [],
   "source": []
  }
 ],
 "metadata": {
  "kernelspec": {
   "display_name": "Python 3 (ipykernel)",
   "language": "python",
   "name": "python3"
  },
  "language_info": {
   "codemirror_mode": {
    "name": "ipython",
    "version": 3
   },
   "file_extension": ".py",
   "mimetype": "text/x-python",
   "name": "python",
   "nbconvert_exporter": "python",
   "pygments_lexer": "ipython3",
   "version": "3.11.4"
  }
 },
 "nbformat": 4,
 "nbformat_minor": 5
}
