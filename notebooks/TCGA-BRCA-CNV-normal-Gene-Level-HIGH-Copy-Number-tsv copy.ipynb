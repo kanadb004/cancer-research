{
 "cells": [
  {
   "cell_type": "code",
   "execution_count": 100,
   "id": "b2037c5a-e766-44d4-b556-b18f1463b74b",
   "metadata": {},
   "outputs": [],
   "source": [
    "import pandas as pd\n",
    "import numpy as np\n",
    "import matplotlib.pyplot as plt\n",
    "from sklearn.impute import SimpleImputer"
   ]
  },
  {
   "cell_type": "code",
   "execution_count": 101,
   "id": "37eff63a-5d8e-4c51-801e-e1066bf9408a",
   "metadata": {},
   "outputs": [],
   "source": [
    "df = pd.read_csv(\"TCGA-BRCA.d0a1e510-1f13-4153-ab54-e813217d5704.gene_level_copy_number.v36__HIGH.tsv\", sep='\\t')"
   ]
  },
  {
   "cell_type": "code",
   "execution_count": 102,
   "id": "3bf8af64-5312-4dac-91b6-72e6e407878a",
   "metadata": {},
   "outputs": [],
   "source": [
    "df.columns = [col.strip() for col in df.columns]"
   ]
  },
  {
   "cell_type": "code",
   "execution_count": 103,
   "id": "3097ef37-44c6-495b-8471-8c1bdc7276e7",
   "metadata": {},
   "outputs": [],
   "source": [
    "df['start'] = pd.to_numeric(df['start'], errors='coerce')\n",
    "df['end'] = pd.to_numeric(df['end'], errors='coerce')\n",
    "df['copy_number'] = pd.to_numeric(df['copy_number'], errors='coerce')\n",
    "df['min_copy_number'] = pd.to_numeric(df['min_copy_number'], errors='coerce')\n",
    "df['max_copy_number'] = pd.to_numeric(df['max_copy_number'], errors='coerce')"
   ]
  },
  {
   "cell_type": "code",
   "execution_count": 104,
   "id": "f2722941-bcc9-486b-b922-ce890052aa3a",
   "metadata": {},
   "outputs": [
    {
     "data": {
      "text/plain": [
       "(60623, 8)"
      ]
     },
     "execution_count": 104,
     "metadata": {},
     "output_type": "execute_result"
    }
   ],
   "source": [
    "df.shape"
   ]
  },
  {
   "cell_type": "code",
   "execution_count": 105,
   "id": "33a6189c-eb8f-4b93-9db8-8b956b5a42ee",
   "metadata": {},
   "outputs": [
    {
     "name": "stdout",
     "output_type": "stream",
     "text": [
      "Missing values before impute:\n",
      "gene_id              0\n",
      "gene_name            0\n",
      "chromosome           0\n",
      "start                0\n",
      "end                  0\n",
      "copy_number        407\n",
      "min_copy_number    407\n",
      "max_copy_number    407\n",
      "dtype: int64\n"
     ]
    }
   ],
   "source": [
    "print(\"Missing values before impute:\")\n",
    "print(df.isnull().sum())"
   ]
  },
  {
   "cell_type": "code",
   "execution_count": 106,
   "id": "a40ca7ba-f1ba-4947-950f-20903f414756",
   "metadata": {},
   "outputs": [],
   "source": [
    "df['start'] = df['start'].ffill().bfill()\n",
    "df['end'] = df['end'].ffill().bfill()"
   ]
  },
  {
   "cell_type": "code",
   "execution_count": 107,
   "id": "845486b9-2fb2-4d7e-8742-cf26be647ccc",
   "metadata": {},
   "outputs": [],
   "source": [
    "imputer = SimpleImputer(strategy='constant', fill_value=2)\n",
    "copy_cols = ['copy_number', 'min_copy_number', 'max_copy_number']\n",
    "df[copy_cols] = imputer.fit_transform(df[copy_cols])"
   ]
  },
  {
   "cell_type": "code",
   "execution_count": 108,
   "id": "bae8f9cb-5f37-4d98-8edb-adee2229d84f",
   "metadata": {},
   "outputs": [
    {
     "name": "stdout",
     "output_type": "stream",
     "text": [
      "\n",
      "Missing values after impute:\n"
     ]
    },
    {
     "data": {
      "text/plain": [
       "gene_id            0\n",
       "gene_name          0\n",
       "chromosome         0\n",
       "start              0\n",
       "end                0\n",
       "copy_number        0\n",
       "min_copy_number    0\n",
       "max_copy_number    0\n",
       "dtype: int64"
      ]
     },
     "execution_count": 108,
     "metadata": {},
     "output_type": "execute_result"
    }
   ],
   "source": [
    "print(\"\\nMissing values after impute:\")\n",
    "df.isnull().sum()"
   ]
  },
  {
   "cell_type": "code",
   "execution_count": 109,
   "id": "9bc8145e-e22a-49fa-96af-e567d731d3c4",
   "metadata": {},
   "outputs": [
    {
     "data": {
      "text/plain": [
       "gene_id             object\n",
       "gene_name           object\n",
       "chromosome          object\n",
       "start                int64\n",
       "end                  int64\n",
       "copy_number        float64\n",
       "min_copy_number    float64\n",
       "max_copy_number    float64\n",
       "dtype: object"
      ]
     },
     "execution_count": 109,
     "metadata": {},
     "output_type": "execute_result"
    }
   ],
   "source": [
    "df.dtypes"
   ]
  },
  {
   "cell_type": "code",
   "execution_count": 110,
   "id": "0d4ab085-ab74-46e0-a2de-f54d88884d9c",
   "metadata": {},
   "outputs": [],
   "source": [
    "def classify(cn):\n",
    "    if cn > 2:\n",
    "        return \"Amplified\"\n",
    "    elif cn < 2:\n",
    "        return \"Deleted\"\n",
    "    else:\n",
    "        return \"Normal\"\n",
    "\n",
    "df['CNV_Type'] = df['copy_number'].apply(classify)"
   ]
  },
  {
   "cell_type": "code",
   "execution_count": 111,
   "id": "b95facd9-ad7c-4606-be2e-406db11c5360",
   "metadata": {},
   "outputs": [
    {
     "data": {
      "text/html": [
       "<div>\n",
       "<style scoped>\n",
       "    .dataframe tbody tr th:only-of-type {\n",
       "        vertical-align: middle;\n",
       "    }\n",
       "\n",
       "    .dataframe tbody tr th {\n",
       "        vertical-align: top;\n",
       "    }\n",
       "\n",
       "    .dataframe thead th {\n",
       "        text-align: right;\n",
       "    }\n",
       "</style>\n",
       "<table border=\"1\" class=\"dataframe\">\n",
       "  <thead>\n",
       "    <tr style=\"text-align: right;\">\n",
       "      <th></th>\n",
       "      <th>gene_id</th>\n",
       "      <th>gene_name</th>\n",
       "      <th>chromosome</th>\n",
       "      <th>start</th>\n",
       "      <th>end</th>\n",
       "      <th>copy_number</th>\n",
       "      <th>min_copy_number</th>\n",
       "      <th>max_copy_number</th>\n",
       "      <th>CNV_Type</th>\n",
       "    </tr>\n",
       "  </thead>\n",
       "  <tbody>\n",
       "    <tr>\n",
       "      <th>0</th>\n",
       "      <td>ENSG00000223972.5</td>\n",
       "      <td>DDX11L1</td>\n",
       "      <td>chr1</td>\n",
       "      <td>11869</td>\n",
       "      <td>14409</td>\n",
       "      <td>2.0</td>\n",
       "      <td>2.0</td>\n",
       "      <td>2.0</td>\n",
       "      <td>Normal</td>\n",
       "    </tr>\n",
       "    <tr>\n",
       "      <th>1</th>\n",
       "      <td>ENSG00000227232.5</td>\n",
       "      <td>WASH7P</td>\n",
       "      <td>chr1</td>\n",
       "      <td>14404</td>\n",
       "      <td>29570</td>\n",
       "      <td>2.0</td>\n",
       "      <td>2.0</td>\n",
       "      <td>2.0</td>\n",
       "      <td>Normal</td>\n",
       "    </tr>\n",
       "    <tr>\n",
       "      <th>2</th>\n",
       "      <td>ENSG00000278267.1</td>\n",
       "      <td>MIR6859-1</td>\n",
       "      <td>chr1</td>\n",
       "      <td>17369</td>\n",
       "      <td>17436</td>\n",
       "      <td>2.0</td>\n",
       "      <td>2.0</td>\n",
       "      <td>2.0</td>\n",
       "      <td>Normal</td>\n",
       "    </tr>\n",
       "    <tr>\n",
       "      <th>3</th>\n",
       "      <td>ENSG00000243485.5</td>\n",
       "      <td>MIR1302-2HG</td>\n",
       "      <td>chr1</td>\n",
       "      <td>29554</td>\n",
       "      <td>31109</td>\n",
       "      <td>2.0</td>\n",
       "      <td>2.0</td>\n",
       "      <td>2.0</td>\n",
       "      <td>Normal</td>\n",
       "    </tr>\n",
       "    <tr>\n",
       "      <th>4</th>\n",
       "      <td>ENSG00000284332.1</td>\n",
       "      <td>MIR1302-2</td>\n",
       "      <td>chr1</td>\n",
       "      <td>30366</td>\n",
       "      <td>30503</td>\n",
       "      <td>2.0</td>\n",
       "      <td>2.0</td>\n",
       "      <td>2.0</td>\n",
       "      <td>Normal</td>\n",
       "    </tr>\n",
       "  </tbody>\n",
       "</table>\n",
       "</div>"
      ],
      "text/plain": [
       "             gene_id    gene_name chromosome  start    end  copy_number  \\\n",
       "0  ENSG00000223972.5      DDX11L1       chr1  11869  14409          2.0   \n",
       "1  ENSG00000227232.5       WASH7P       chr1  14404  29570          2.0   \n",
       "2  ENSG00000278267.1    MIR6859-1       chr1  17369  17436          2.0   \n",
       "3  ENSG00000243485.5  MIR1302-2HG       chr1  29554  31109          2.0   \n",
       "4  ENSG00000284332.1    MIR1302-2       chr1  30366  30503          2.0   \n",
       "\n",
       "   min_copy_number  max_copy_number CNV_Type  \n",
       "0              2.0              2.0   Normal  \n",
       "1              2.0              2.0   Normal  \n",
       "2              2.0              2.0   Normal  \n",
       "3              2.0              2.0   Normal  \n",
       "4              2.0              2.0   Normal  "
      ]
     },
     "execution_count": 111,
     "metadata": {},
     "output_type": "execute_result"
    }
   ],
   "source": [
    "df.head()"
   ]
  },
  {
   "cell_type": "code",
   "execution_count": 112,
   "id": "204f6294-3ca2-411b-afb2-68dcbea84cdc",
   "metadata": {},
   "outputs": [
    {
     "data": {
      "image/png": "[encoded data removed]",
      "text/plain": [
       "<Figure size 640x480 with 1 Axes>"
      ]
     },
     "metadata": {},
     "output_type": "display_data"
    }
   ],
   "source": [
    "plt.hist(df['copy_number'], color='gray', edgecolor='black')\n",
    "\n",
    "plt.title('Histogram')\n",
    "plt.xlabel('Copy Number')\n",
    "plt.ylabel('Frequency')\n",
    "\n",
    "plt.show()"
   ]
  },
  {
   "cell_type": "code",
   "execution_count": 113,
   "id": "6445a81c-ec7d-4bb2-abd1-63fd1157e65e",
   "metadata": {},
   "outputs": [
    {
     "data": {
      "text/plain": [
       "CNV_Type\n",
       "Amplified    59499\n",
       "Normal         582\n",
       "Deleted        542\n",
       "Name: count, dtype: int64"
      ]
     },
     "execution_count": 113,
     "metadata": {},
     "output_type": "execute_result"
    }
   ],
   "source": [
    "cnv_types = df['CNV_Type'].value_counts()\n",
    "cnv_types"
   ]
  },
  {
   "cell_type": "code",
   "execution_count": 114,
   "id": "2a66b207-b447-4ba7-aa90-c0ee9c201145",
   "metadata": {},
   "outputs": [
    {
     "data": {
      "image/png": "[encoded data removed]",
      "text/plain": [
       "<Figure size 640x480 with 1 Axes>"
      ]
     },
     "metadata": {},
     "output_type": "display_data"
    }
   ],
   "source": [
    "plt.bar(cnv_types.index, cnv_types.values, color=['green', 'red', 'blue'])\n",
    "\n",
    "plt.title('CNV Type Counts')\n",
    "plt.xlabel('CNV Type')\n",
    "plt.ylabel('Count')\n",
    "\n",
    "plt.show()"
   ]
  },
  {
   "cell_type": "code",
   "execution_count": null,
   "id": "965be189-c2c3-4730-bc60-ec6af80f16ac",
   "metadata": {},
   "outputs": [],
   "source": []
  }
 ],
 "metadata": {
  "kernelspec": {
   "display_name": "Python [conda env:base] *",
   "language": "python",
   "name": "conda-base-py"
  },
  "language_info": {
   "codemirror_mode": {
    "name": "ipython",
    "version": 3
   },
   "file_extension": ".py",
   "mimetype": "text/x-python",
   "name": "python",
   "nbconvert_exporter": "python",
   "pygments_lexer": "ipython3",
   "version": "3.12.7"
  }
 },
 "nbformat": 4,
 "nbformat_minor": 5
}
